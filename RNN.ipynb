{
  "nbformat": 4,
  "nbformat_minor": 0,
  "metadata": {
    "colab": {
      "name": "RNN",
      "version": "0.3.2",
      "provenance": [],
      "include_colab_link": true
    },
    "kernelspec": {
      "name": "python3",
      "display_name": "Python 3"
    }
  },
  "cells": [
    {
      "cell_type": "markdown",
      "metadata": {
        "id": "view-in-github",
        "colab_type": "text"
      },
      "source": [
        "<a href=\"https://colab.research.google.com/github/z1qsx/myANLP/blob/master/RNN.ipynb\" target=\"_parent\"><img src=\"https://colab.research.google.com/assets/colab-badge.svg\" alt=\"Open In Colab\"/></a>"
      ]
    },
    {
      "metadata": {
        "id": "i8-XI2Kdpems",
        "colab_type": "text"
      },
      "cell_type": "markdown",
      "source": [
        "A.\n",
        "  \n",
        "1.$f(x,W)=wx+b$   \n",
        "\n",
        "2.SVM loss function\n",
        " $L_i=\\frac {1}{N}\\sum_{i=1}^{N} \\Sigma_{j \\ney_i}max(0,f(x_i;W)_j - f(x_i;W)_{y_{i}}+1)$\n",
        " \n",
        " 3.+$\\lambda R(V)$"
      ]
    },
    {
      "metadata": {
        "id": "8ULgNCiBv7pR",
        "colab_type": "text"
      },
      "cell_type": "markdown",
      "source": [
        "B.   \n",
        "Softmax classifition\n",
        "for projection of each results \n",
        "\n",
        "Li $\\to exp \\to normalize$\n",
        "\n",
        "$L_i=-log(\\frac{e^sy_i}{\\Sigma_j e^s j})$"
      ]
    },
    {
      "metadata": {
        "id": "RPMfhRYOpQE3",
        "colab_type": "code",
        "colab": {}
      },
      "cell_type": "code",
      "source": [
        ""
      ],
      "execution_count": 0,
      "outputs": []
    }
  ]
}